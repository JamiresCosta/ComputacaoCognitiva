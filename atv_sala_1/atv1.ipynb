{
 "cells": [
  {
   "cell_type": "code",
   "execution_count": 2,
   "metadata": {},
   "outputs": [],
   "source": [
    "##atividade 1\n",
    "import re"
   ]
  },
  {
   "cell_type": "code",
   "execution_count": 4,
   "metadata": {},
   "outputs": [
    {
     "name": "stdout",
     "output_type": "stream",
     "text": [
      "[\"Let's write RegEx\", \"Won't that be fun\", 'I sure think so', 'Can you find 4 sentences', 'Or perhaps, all 19 words', ''] \n",
      "\n"
     ]
    }
   ],
   "source": [
    "my_string = \"Let's write RegEx!  Won't that be fun?  \" \\\n",
    "            \"I sure think so.  Can you find 4 sentences? \" \\\n",
    "            \"Or perhaps, all 19 words?\"\n",
    "\n",
    "sentence_endings = r'[?.!]\\s*'\n",
    "print(re.split(sentence_endings, my_string), '\\n')"
   ]
  },
  {
   "cell_type": "code",
   "execution_count": 5,
   "metadata": {},
   "outputs": [
    {
     "name": "stdout",
     "output_type": "stream",
     "text": [
      "['Let', 'RegEx', 'Won', 'Can', 'Or'] \n",
      "\n"
     ]
    }
   ],
   "source": [
    "capitalized_words = r'[A-Z]\\w+'\n",
    "print(re.findall(capitalized_words, my_string), '\\n')"
   ]
  },
  {
   "cell_type": "code",
   "execution_count": 6,
   "metadata": {},
   "outputs": [
    {
     "name": "stdout",
     "output_type": "stream",
     "text": [
      "[\"Let's\", 'write', 'RegEx!', \"Won't\", 'that', 'be', 'fun?', 'I', 'sure', 'think', 'so.', 'Can', 'you', 'find', '4', 'sentences?', 'Or', 'perhaps,', 'all', '19', 'words?'] 21 \n",
      "\n"
     ]
    }
   ],
   "source": [
    "spaces = r'\\s+'\n",
    "all_words = re.split(spaces, my_string)\n",
    "print(all_words, len(all_words), '\\n')"
   ]
  },
  {
   "cell_type": "code",
   "execution_count": 7,
   "metadata": {},
   "outputs": [
    {
     "name": "stdout",
     "output_type": "stream",
     "text": [
      "[\"Let's\", 'write', 'RegEx', \"Won't\", 'that', 'be', 'fun', 'I', 'sure', 'think', 'so', 'Can', 'you', 'find', 'sentences', 'Or', 'perhaps', 'all', 'words'] 19 \n",
      "\n"
     ]
    }
   ],
   "source": [
    "only_words = re.findall(r\"[a-zA-Z']+\", my_string)\n",
    "print(only_words, len(only_words), '\\n')"
   ]
  },
  {
   "cell_type": "code",
   "execution_count": 8,
   "metadata": {},
   "outputs": [
    {
     "name": "stdout",
     "output_type": "stream",
     "text": [
      "['4', '19']\n"
     ]
    }
   ],
   "source": [
    "digits = r'\\d+'\n",
    "print(re.findall(digits, my_string))"
   ]
  },
  {
   "cell_type": "code",
   "execution_count": null,
   "metadata": {},
   "outputs": [],
   "source": [
    "\n",
    "\n",
    "\n"
   ]
  }
 ],
 "metadata": {
  "kernelspec": {
   "display_name": "Python 3",
   "language": "python",
   "name": "python3"
  },
  "language_info": {
   "codemirror_mode": {
    "name": "ipython",
    "version": 3
   },
   "file_extension": ".py",
   "mimetype": "text/x-python",
   "name": "python",
   "nbconvert_exporter": "python",
   "pygments_lexer": "ipython3",
   "version": "3.7.6"
  }
 },
 "nbformat": 4,
 "nbformat_minor": 4
}
