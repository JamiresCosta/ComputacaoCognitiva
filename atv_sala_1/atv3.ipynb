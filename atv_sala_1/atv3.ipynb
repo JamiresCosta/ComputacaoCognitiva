{
 "cells": [
  {
   "cell_type": "code",
   "execution_count": 4,
   "metadata": {},
   "outputs": [],
   "source": [
    "from nltk.tokenize import sent_tokenize\n",
    "from nlp_utils import get_sample_Santo_Graal\n",
    "import re\n"
   ]
  },
  {
   "cell_type": "code",
   "execution_count": 8,
   "metadata": {},
   "outputs": [],
   "source": []
  },
  {
   "cell_type": "code",
   "execution_count": 9,
   "metadata": {},
   "outputs": [
    {
     "name": "stdout",
     "output_type": "stream",
     "text": [
      "581 589\n",
      "<re.Match object; span=(581, 589), match='coconuts'>\n"
     ]
    }
   ],
   "source": [
    "scene_one =  get_sample_Santo_Graal()\n",
    "sentences =  sent_tokenize(scene_one)\n",
    "match = re.search(r\"coconuts\",scene_one)\n",
    "print(match.start(),match.end())\n",
    "print (match)"
   ]
  },
  {
   "cell_type": "code",
   "execution_count": 10,
   "metadata": {},
   "outputs": [
    {
     "name": "stdout",
     "output_type": "stream",
     "text": [
      "<re.Match object; span=(9, 15), match='[wind]'>\n"
     ]
    }
   ],
   "source": [
    "pattern1 = r\"\\[[A-Za-z]+\\]\"\n",
    "match = re.search(pattern1,scene_one)\n",
    "print(match)"
   ]
  },
  {
   "cell_type": "code",
   "execution_count": 11,
   "metadata": {},
   "outputs": [
    {
     "name": "stdout",
     "output_type": "stream",
     "text": [
      "['ARTHUR:']\n"
     ]
    }
   ],
   "source": [
    "pattern2 = r\"[A-Z]+:\"\n",
    "print(re.findall(pattern2,sentences[3]))"
   ]
  },
  {
   "cell_type": "code",
   "execution_count": null,
   "metadata": {},
   "outputs": [],
   "source": []
  },
  {
   "cell_type": "code",
   "execution_count": 2,
   "metadata": {},
   "outputs": [],
   "source": []
  },
  {
   "cell_type": "code",
   "execution_count": null,
   "metadata": {},
   "outputs": [],
   "source": []
  }
 ],
 "metadata": {
  "kernelspec": {
   "display_name": "Python 3",
   "language": "python",
   "name": "python3"
  },
  "language_info": {
   "codemirror_mode": {
    "name": "ipython",
    "version": 3
   },
   "file_extension": ".py",
   "mimetype": "text/x-python",
   "name": "python",
   "nbconvert_exporter": "python",
   "pygments_lexer": "ipython3",
   "version": "3.7.6"
  }
 },
 "nbformat": 4,
 "nbformat_minor": 4
}
