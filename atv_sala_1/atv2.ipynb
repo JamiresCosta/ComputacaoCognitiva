{
 "cells": [
  {
   "cell_type": "code",
   "execution_count": 10,
   "metadata": {},
   "outputs": [
    {
     "name": "stdout",
     "output_type": "stream",
     "text": [
      "[nltk_data] Downloading package punkt to /home/jamires/nltk_data...\n",
      "[nltk_data]   Package punkt is already up-to-date!\n"
     ]
    },
    {
     "data": {
      "text/plain": [
       "True"
      ]
     },
     "execution_count": 10,
     "metadata": {},
     "output_type": "execute_result"
    }
   ],
   "source": [
    "#atividade2\n",
    "from nltk.tokenize import word_tokenize , sent_tokenize\n",
    "import nltk\n",
    "nltk.download('punkt')"
   ]
  },
  {
   "cell_type": "code",
   "execution_count": 11,
   "metadata": {},
   "outputs": [],
   "source": [
    "scene_one = get_sample_Santo_Graal()\n",
    "sentences = sent_tokenize(scene_one)"
   ]
  },
  {
   "cell_type": "code",
   "execution_count": 12,
   "metadata": {},
   "outputs": [
    {
     "name": "stdout",
     "output_type": "stream",
     "text": [
      "['ARTHUR', ':', 'It', 'is', 'I', ',', 'Arthur', ',', 'son', 'of', 'Uther', 'Pendragon', ',', 'from', 'the', 'castle', 'of', 'Camelot', '.']\n"
     ]
    }
   ],
   "source": [
    "tokenized_sent = word_tokenize(sentences[3])\n",
    "print(tokenized_sent)"
   ]
  },
  {
   "cell_type": "code",
   "execution_count": 13,
   "metadata": {},
   "outputs": [
    {
     "name": "stdout",
     "output_type": "stream",
     "text": [
      "{'interested', \"'em\", 'warmer', 'Not', 'carrying', \"'s\", 'fly', 'I', 'ask', 'five', 'Wait', 'he', 'dorsal', '2', 'Camelot', 'covered', 'point', 'they', 'What', 'Listen', 'the', 'get', 'right', 'does', 'Halt', 'line', 'You', 'why', 'migrate', 'strangers', 'coconut', \"'m\", 'an', 'them', 'Supposing', '[', 'SOLDIER', 'bring', 'question', 'since', 'But', 'African', 'Mercea', 'They', 'ridden', '?', 'velocity', 'swallows', 'snows', 'Arthur', 'course', 'strand', 'speak', 'all', 'through', 'be', 'maintain', 'feathers', 'me', 'It', 'length', 'every', 'Pendragon', 'matter', 'Oh', 'swallow', 'In', 'Will', 'clop', 'of', 'join', 'a', 'times', 'bird', 'by', 'temperate', 'plover', 'Uther', ']', 'carried', 'Britons', 'but', 'Well', 'kingdom', 'south', ',', 'this', 'defeator', 'son', 'wants', 'will', 'breadth', 'SCENE', 'climes', 'The', 'non-migratory', 'Found', 'is', 'must', 'creeper', 'land', 'tropical', '--', 'needs', 'not', \"'d\", 'beat', 'A', 'weight', 'anyway', 'No', 'knights', 'with', 'castle', 'KING', 'husk', 'two', 'minute', 'mean', 'forty-three', 'am', 'you', 'found', 'Am', 'suggesting', 'go', 'martin', 'trusty', 'on', 'agree', 'Ridden', 'Yes', 'it', 'order', 'Please', 'Whoa', 'goes', 'Patsy', 'could', 'our', 'lord', 'horse', 'back', 'pound', 'ratios', 'Saxons', 'have', 'here', 'got', \"'ve\", '...', \"n't\", 'European', 'servant', 'ounce', 'yeah', 'So', 'Are', 'second', 'to', 'search', 'carry', 'use', 'do', 'zone', 'guiding', '!', 'that', 'there', 'Who', 'court', 'grips', 'halves', 'under', 'Where', 'tell', 'then', 'master', '#', 'where', 'maybe', 'winter', 'air-speed', 'ARTHUR', '1', 'house', 'Court', ':', 'bangin', 'from', 'your', \"'re\", 'King', \"'\", '.', 'one', 'or', 'are', 'if', 'may', 'in', 'using', 'other', 'simple', 'wings', 'these', 'who', 'sovereign', 'wind', 'Pull', 'sun', 'England', 'yet', 'its', 'We', 'my', 'and', 'That', 'at', 'seek', 'grip', 'together', 'held', 'just', 'empty', 'coconuts'}\n"
     ]
    }
   ],
   "source": [
    "unique_tokens = set(word_tokenize(scene_one))\n",
    "print(unique_tokens)"
   ]
  },
  {
   "cell_type": "code",
   "execution_count": 9,
   "metadata": {},
   "outputs": [],
   "source": [
    "def get_sample_Santo_Graal():\n",
    "\n",
    " return \"SCENE 1: [wind] [clop clop clop] \\n KING ARTHUR: Whoa there!  [clop clop clop] \\nSOLDIER #1: Halt!  Who goes there?\\nARTHUR: It is I, Arthur, son of Uther Pendragon, from the castle of Camelot.  King of the Britons, defeator of the Saxons, sovereign of all England!\\nSOLDIER #1: Pull the other one!\\nARTHUR: I am, ...  and this is my trusty servant Patsy.  We have ridden the length and breadth of the land in search of knights who will join me in my court at Camelot.  I must speak with your lord and master.\\nSOLDIER #1: What?  Ridden on a horse?\\nARTHUR: Yes!\\nSOLDIER #1: You're using coconuts!\\nARTHUR: What?\\nSOLDIER #1: You've got two empty halves of coconut and you're bangin' 'em together.\\nARTHUR: So?  We have ridden since the snows of winter covered this land, through the kingdom of Mercea, through--\\nSOLDIER #1: Where'd you get the coconuts?\\nARTHUR: We found them.\\nSOLDIER #1: Found them?  In Mercea?  The coconut's tropical!\\nARTHUR: What do you mean?\\nSOLDIER #1: Well, this is a temperate zone.\\nARTHUR: The swallow may fly south with the sun or the house martin or the plover may seek warmer climes in winter, yet these are not strangers to our land?\\nSOLDIER #1: Are you suggesting coconuts migrate?\\nARTHUR: Not at all.  They could be carried.\\nSOLDIER #1: What?  A swallow carrying a coconut?\\nARTHUR: It could grip it by the husk!\\nSOLDIER #1: It's not a question of where he grips it!  It's a simple question of weight ratios!  A five ounce bird could not carry a one pound coconut.\\nARTHUR: Well, it doesn't matter.  Will you go and tell your master that Arthur from the Court of Camelot is here.\\nSOLDIER #1: Listen.  In order to maintain air-speed velocity, a swallow needs to beat its wings forty-three times every second, right?\\nARTHUR: Please!\\nSOLDIER #1: Am I right?\\nARTHUR: I'm not interested!\\nSOLDIER #2: It could be carried by an African swallow!\\nSOLDIER #1: Oh, yeah, an African swallow maybe, but not a European swallow.  That's my point.\\nSOLDIER #2: Oh, yeah, I agree with that.\\nARTHUR: Will you ask your master if he wants to join my court at Camelot?!\\nSOLDIER #1: But then of course a-- African swallows are non-migratory.\\nSOLDIER #2: Oh, yeah...\\nSOLDIER #1: So they couldn't bring a coconut back anyway...  [clop clop clop] \\nSOLDIER #2: Wait a minute!  Supposing two swallows carried it together?\\nSOLDIER #1: No, they'd have to have it on a line.\\nSOLDIER #2: Well, simple!  They'd just use a strand of creeper!\\nSOLDIER #1: What, held under the dorsal guiding feathers?\\nSOLDIER #2: Well, why not?\\n\"\n"
   ]
  },
  {
   "cell_type": "code",
   "execution_count": null,
   "metadata": {},
   "outputs": [],
   "source": []
  }
 ],
 "metadata": {
  "kernelspec": {
   "display_name": "Python 3",
   "language": "python",
   "name": "python3"
  },
  "language_info": {
   "codemirror_mode": {
    "name": "ipython",
    "version": 3
   },
   "file_extension": ".py",
   "mimetype": "text/x-python",
   "name": "python",
   "nbconvert_exporter": "python",
   "pygments_lexer": "ipython3",
   "version": "3.7.6"
  }
 },
 "nbformat": 4,
 "nbformat_minor": 4
}
