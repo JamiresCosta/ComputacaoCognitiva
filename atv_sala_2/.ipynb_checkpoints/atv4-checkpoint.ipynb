{
 "cells": [
  {
   "cell_type": "code",
   "execution_count": 5,
   "metadata": {},
   "outputs": [],
   "source": [
    "import itertools\n",
    "from collections import defaultdict\n",
    "from gensim.corpora.dictionary import Dictionary\n",
    "from nlp_utils import get_pre_process_wiki_articles"
   ]
  },
  {
   "cell_type": "code",
   "execution_count": 7,
   "metadata": {},
   "outputs": [
    {
     "name": "stdout",
     "output_type": "stream",
     "text": [
      "The token  '' appears  53 times\n",
      "The token  engineering appears  35 times\n",
      "The token  reverse appears  27 times\n",
      "The token  software appears  16 times\n",
      "The token  ref appears  11 times\n",
      "the key 5 in defaultdict has count:  1 \n",
      "\n",
      "Dictionary(4482 unique tokens: [\"''\", \"''application\", \"''computable\", \"''device\", \"''itself\"]...)\n",
      "Dictionary(4482 unique tokens: [\"''\", \"''application\", \"''computable\", \"''device\", \"''itself\"]...)\n",
      "Dictionary(4482 unique tokens: [\"''\", \"''application\", \"''computable\", \"''device\", \"''itself\"]...)\n",
      "Dictionary(4482 unique tokens: [\"''\", \"''application\", \"''computable\", \"''device\", \"''itself\"]...)\n",
      "Dictionary(4482 unique tokens: [\"''\", \"''application\", \"''computable\", \"''device\", \"''itself\"]...)\n"
     ]
    }
   ],
   "source": [
    "# Create a Dictionary from the articles: dictionary\n",
    "articles = get_pre_process_wiki_articles()\n",
    "dictionary = Dictionary(articles)\n",
    "\n",
    "# Create a MmCorpus: corpus\n",
    "corpus = [dictionary.doc2bow(article) for article in articles]\n",
    "\n",
    "# Get the fifth document in corpus: doc\n",
    "doc = corpus[4]\n",
    "\n",
    "# Sort the doc for frequency: bow_doc\n",
    "bow_doc = sorted(doc, key=lambda w: w[1], reverse=True)\n",
    "\n",
    "# Print the top 5 words of the document alongside the count\n",
    "for word_id, word_count in bow_doc[:5]:\n",
    "    print(\"The token \",dictionary.get(word_id),\"appears \",word_count, \"times\")\n",
    "\n",
    "# Create the defaultdict: total_word_count\n",
    "total_word_count = defaultdict(int)\n",
    "for word_id, word_count in itertools.chain.from_iterable(corpus):\n",
    "  total_word_count[word_id] += word_count\n",
    "\n",
    "# Choose a key between 0 and 10 and show the count with a print function.\n",
    "key =5\n",
    "print(\"the key\",key,\"in defaultdict has count: \", total_word_count[key],'\\n')\n",
    "\n",
    "# Create a sorted list from the defaultdict: sorted_word_count\n",
    "sorted_word_count = sorted(total_word_count.items(), key=lambda w: w[1], reverse=True)\n",
    "\n",
    "# Print the top 5 words across all documents alongside the count\n",
    "for i, qtde in sorted_word_count[:5]:\n",
    "    print(dictionary)"
   ]
  },
  {
   "cell_type": "code",
   "execution_count": null,
   "metadata": {},
   "outputs": [],
   "source": []
  }
 ],
 "metadata": {
  "kernelspec": {
   "display_name": "Python 3",
   "language": "python",
   "name": "python3"
  },
  "language_info": {
   "codemirror_mode": {
    "name": "ipython",
    "version": 3
   },
   "file_extension": ".py",
   "mimetype": "text/x-python",
   "name": "python",
   "nbconvert_exporter": "python",
   "pygments_lexer": "ipython3",
   "version": "3.7.6"
  }
 },
 "nbformat": 4,
 "nbformat_minor": 4
}
