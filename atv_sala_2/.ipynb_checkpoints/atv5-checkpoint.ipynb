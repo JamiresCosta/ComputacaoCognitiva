{
 "cells": [
  {
   "cell_type": "code",
   "execution_count": 7,
   "metadata": {},
   "outputs": [
    {
     "name": "stdout",
     "output_type": "stream",
     "text": [
      "[(29, 0.003947336371077938), (34, 0.015722570834963884), (36, 0.012459842594174939), (40, 0.015722570834963884), (49, 0.06289028333985554)]\n",
      "reverse  -  0.4245094125440249\n",
      "engineering  -  0.347517588472571\n",
      "3d  -  0.22545930743311063\n",
      "product  -  0.14224789608159819\n",
      "chikofsky  -  0.14091206714569413\n"
     ]
    }
   ],
   "source": [
    "from gensim.corpora.dictionary import Dictionary\n",
    "from nlp_utils import get_pre_process_wiki_articles\n",
    "from gensim.models import TfidfModel\n",
    "\n",
    "# Create a Dictionary from the articles: dictionary\n",
    "articles = get_pre_process_wiki_articles()\n",
    "dictionary = Dictionary(articles)\n",
    "\n",
    "# Create a MmCorpus: corpus\n",
    "corpus = [dictionary.doc2bow(article) for article in articles]\n",
    "\n",
    "# Get the fifth document in corpus: doc\n",
    "doc = corpus[4]\n",
    "\n",
    "# Create a new TfidfModel using the corpus: tfidf\n",
    "tfidf =TfidfModel(corpus)\n",
    "# Calculate the tfidf weights of doc: tfidf_weights\n",
    "tfidf_weights =tfidf[doc]\n",
    "\n",
    "# Print the first five weights\n",
    "print(tfidf_weights[:5])\n",
    "\n",
    "# Sort the weights from highest to lowest: sorted_tfidf_weights\n",
    "sorted_tfidf_weights = sorted(tfidf_weights, key=lambda w: w[1], reverse=True)\n",
    "\n",
    "# Print the top 5 weighted words\n",
    "for term_id, weight in sorted_tfidf_weights[:5]:\n",
    "    print(dictionary.get(term_id), \" - \", weight)"
   ]
  },
  {
   "cell_type": "code",
   "execution_count": null,
   "metadata": {},
   "outputs": [],
   "source": []
  }
 ],
 "metadata": {
  "kernelspec": {
   "display_name": "Python 3",
   "language": "python",
   "name": "python3"
  },
  "language_info": {
   "codemirror_mode": {
    "name": "ipython",
    "version": 3
   },
   "file_extension": ".py",
   "mimetype": "text/x-python",
   "name": "python",
   "nbconvert_exporter": "python",
   "pygments_lexer": "ipython3",
   "version": "3.7.6"
  }
 },
 "nbformat": 4,
 "nbformat_minor": 4
}
